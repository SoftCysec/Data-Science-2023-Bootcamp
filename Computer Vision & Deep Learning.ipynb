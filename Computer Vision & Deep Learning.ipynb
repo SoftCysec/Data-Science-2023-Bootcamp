{
  "cells": [
    {
      "cell_type": "markdown",
      "metadata": {
        "id": "u2Ohm-5Od2w8"
      },
      "source": [
        "This block of code imports the necessary libraries for the notebook. OpenCV is used for image processing, Numpy is used for numerical operations, Keras is used for building deep learning models, and the MNIST dataset is used for training the model."
      ]
    },
    {
      "cell_type": "code",
      "execution_count": null,
      "metadata": {
        "id": "_dR1QtnkbZu5"
      },
      "outputs": [],
      "source": [
        "# Import necessary libraries\n",
        "import cv2\n",
        "import numpy as np\n",
        "from keras.models import Sequential\n",
        "from keras.layers import Dense, Conv2D, MaxPooling2D, Flatten\n",
        "from keras.datasets import mnist\n",
        "from keras.utils import to_categorical"
      ]
    },
    {
      "cell_type": "markdown",
      "metadata": {
        "id": "_a-CV3nrd7cf"
      },
      "source": [
        "This block of code loads the MNIST dataset which is a dataset of handwritten digits and splits it into training and test sets."
      ]
    },
    {
      "cell_type": "code",
      "execution_count": null,
      "metadata": {
        "colab": {
          "base_uri": "https://localhost:8080/"
        },
        "id": "RO1gT0Yrbv2j",
        "outputId": "373abac4-48bd-4101-b43f-a2b93fd5fc33"
      },
      "outputs": [
        {
          "output_type": "stream",
          "name": "stdout",
          "text": [
            "Downloading data from https://storage.googleapis.com/tensorflow/tf-keras-datasets/mnist.npz\n",
            "11490434/11490434 [==============================] - 1s 0us/step\n"
          ]
        }
      ],
      "source": [
        "# Load the MNIST dataset\n",
        "(x_train, y_train), (x_test, y_test) = mnist.load_data()"
      ]
    },
    {
      "cell_type": "markdown",
      "metadata": {
        "id": "Y55_c8Pxd_GO"
      },
      "source": [
        "This block of code reshapes and normalizes the data to prepare it for use in a CNN. The data is reshaped to have the shape (number of images, 28, 28, 1) and is normalized by dividing it by 255."
      ]
    },
    {
      "cell_type": "code",
      "execution_count": null,
      "metadata": {
        "id": "gt5m1g9hbyGi"
      },
      "outputs": [],
      "source": [
        "# Reshape and normalize the data\n",
        "x_train = x_train.reshape(x_train.shape[0], 28, 28, 1)\n",
        "x_test = x_test.reshape(x_test.shape[0], 28, 28, 1)\n",
        "x_train = x_train.astype('float32')\n",
        "x_test = x_test.astype('float32')\n",
        "x_train /= 255\n",
        "x_test /= 255"
      ]
    },
    {
      "cell_type": "code",
      "execution_count": null,
      "metadata": {
        "id": "b7S88BMadaH0"
      },
      "outputs": [],
      "source": [
        "# One hot encode the target data\n",
        "y_train = to_categorical(y_train)\n",
        "y_test = to_categorical(y_test)"
      ]
    },
    {
      "cell_type": "markdown",
      "metadata": {
        "id": "fujQGRi-e4UT"
      },
      "source": [
        "This block of code creates a simple CNN model using the Keras library. The model consists of a convolutional layer, a max pooling layer, a flatten layer, a dense layer with 128 neurons and relu activation function, and an output layer with 10 neurons and softmax activation function. The input shape is set to (28, 28, 1) which is the shape of the MNIST images after reshaping."
      ]
    },
    {
      "cell_type": "code",
      "execution_count": null,
      "metadata": {
        "id": "6mg5_GB9b0nG"
      },
      "outputs": [],
      "source": [
        "# Create a CNN model\n",
        "model = Sequential()\n",
        "model.add(Conv2D(32, kernel_size=(3, 3), activation='relu', input_shape=(28, 28, 1)))\n",
        "model.add(MaxPooling2D(pool_size=(2, 2)))\n",
        "model.add(Flatten())\n",
        "model.add(Dense(128, activation='relu'))\n",
        "model.add(Dense(10, activation='softmax'))"
      ]
    },
    {
      "cell_type": "markdown",
      "metadata": {
        "id": "3-KeD0spe7HE"
      },
      "source": [
        "This block of code compiles the model with the Adam optimizer, categorical cross-entropy loss function, and accuracy metric."
      ]
    },
    {
      "cell_type": "code",
      "execution_count": null,
      "metadata": {
        "id": "DWjpPXQab3Lk"
      },
      "outputs": [],
      "source": [
        "model.compile(optimizer='adam', loss='categorical_crossentropy', metrics=['accuracy'])"
      ]
    },
    {
      "cell_type": "markdown",
      "metadata": {
        "id": "ESXxj5_AezDL"
      },
      "source": [
        "This block of code trains the model on the training data for 10 epochs with a batch size of 128."
      ]
    },
    {
      "cell_type": "code",
      "execution_count": null,
      "metadata": {
        "colab": {
          "base_uri": "https://localhost:8080/"
        },
        "id": "r5anz5Hkb5wt",
        "outputId": "62cfbeb6-89c3-4cbb-f868-919f9eb8d2f2"
      },
      "outputs": [
        {
          "output_type": "stream",
          "name": "stdout",
          "text": [
            "Epoch 1/5\n",
            "469/469 [==============================] - 11s 4ms/step - loss: 0.2227 - accuracy: 0.9375\n",
            "Epoch 2/5\n",
            "469/469 [==============================] - 2s 4ms/step - loss: 0.0694 - accuracy: 0.9796\n",
            "Epoch 3/5\n",
            "469/469 [==============================] - 2s 4ms/step - loss: 0.0463 - accuracy: 0.9862\n",
            "Epoch 4/5\n",
            "469/469 [==============================] - 2s 4ms/step - loss: 0.0355 - accuracy: 0.9898\n",
            "Epoch 5/5\n",
            "469/469 [==============================] - 2s 4ms/step - loss: 0.0259 - accuracy: 0.9923\n"
          ]
        },
        {
          "output_type": "execute_result",
          "data": {
            "text/plain": [
              "<keras.callbacks.History at 0x7f69b02b7e50>"
            ]
          },
          "metadata": {},
          "execution_count": 8
        }
      ],
      "source": [
        "# Train the model\n",
        "model.fit(x_train, y_train, epochs=5, batch_size=128)"
      ]
    },
    {
      "cell_type": "markdown",
      "metadata": {
        "id": "JjEGbT24fDaA"
      },
      "source": [
        "This block of code evaluates the model on the test data and prints the test loss and accuracy.\n",
        "\n"
      ]
    },
    {
      "cell_type": "code",
      "execution_count": null,
      "metadata": {
        "colab": {
          "base_uri": "https://localhost:8080/"
        },
        "id": "e19PIMfnb7n-",
        "outputId": "f7b43ce3-08d6-4f89-9571-f6c36ededeba"
      },
      "outputs": [
        {
          "output_type": "stream",
          "name": "stdout",
          "text": [
            "Test loss: 0.040793586522340775\n",
            "Test accuracy: 0.9857000112533569\n"
          ]
        }
      ],
      "source": [
        "# Evaluate the model\n",
        "score = model.evaluate(x_test, y_test, verbose=0)\n",
        "print(\"Test loss:\", score[0])\n",
        "print(\"Test accuracy:\", score[1])"
      ]
    },
    {
      "cell_type": "markdown",
      "metadata": {
        "id": "svUTtJGXfIBs"
      },
      "source": [
        " applies image processing techniques to an image, including reading an image from a file, converting it to grayscale, applying a Gaussian blur, and applying Canny edge detection."
      ]
    },
    {
      "cell_type": "code",
      "execution_count": null,
      "metadata": {
        "id": "CHc8XVkrcEn5",
        "colab": {
          "base_uri": "https://localhost:8080/"
        },
        "outputId": "29ab09f9-b0d9-499e-ad92-80c18df51a49"
      },
      "outputs": [
        {
          "output_type": "stream",
          "name": "stdout",
          "text": [
            "[[0 0 0 ... 0 0 0]\n",
            " [0 0 0 ... 0 0 0]\n",
            " [0 0 0 ... 0 0 0]\n",
            " ...\n",
            " [0 0 0 ... 0 0 0]\n",
            " [0 0 0 ... 0 0 0]\n",
            " [0 0 0 ... 0 0 0]]\n"
          ]
        }
      ],
      "source": [
        "# Load an image\n",
        "img = cv2.imread(\"/content/image2.png\")\n",
        "# Convert to grayscale\n",
        "gray = cv2.cvtColor(img, cv2.COLOR_BGR2GRAY)\n",
        "# Apply a Gaussian blur\n",
        "blurred = cv2.GaussianBlur(gray, (5, 5), 0)\n",
        "\n",
        "edges = cv2.Canny(blurred, 50, 150)\n",
        "print(edges)"
      ]
    },
    {
      "cell_type": "markdown",
      "metadata": {
        "id": "P72TprB4fU3X"
      },
      "source": [
        "displays the image with edges using OpenCV's imshow function and waits for a key press to close the window. The `cv2.imshow()` function is used to display an image, the `cv2.waitKey(0`) function is used to wait for a key press, and the `cv2.destroyAllWindows()` function is used to close all open windows."
      ]
    },
    {
      "cell_type": "code",
      "execution_count": null,
      "metadata": {
        "id": "Bbd6B_5xcO8e",
        "colab": {
          "base_uri": "https://localhost:8080/",
          "height": 531
        },
        "outputId": "b056a41a-79ba-40e7-d7c6-30b78f743e2d"
      },
      "outputs": [
        {
          "output_type": "display_data",
          "data": {
            "text/plain": [
              "<PIL.Image.Image image mode=L size=1212x750 at 0x7F69B02B77C0>"
            ],
            "image/png": "[encoded data removed]"
          },
          "metadata": {}
        }
      ],
      "source": [
        "from google.colab.patches import cv2_imshow\n",
        "# Display the image\n",
        "cv2_imshow(edges)\n",
        "cv2.waitKey(0)\n",
        "cv2.destroyAllWindows()"
      ]
    },
    {
      "cell_type": "code",
      "source": [],
      "metadata": {
        "id": "RY1YiBMgxCv-"
      },
      "execution_count": null,
      "outputs": []
    }
  ],
  "metadata": {
    "colab": {
      "provenance": []
    },
    "kernelspec": {
      "display_name": "Python 3",
      "name": "python3"
    },
    "language_info": {
      "name": "python"
    },
    "accelerator": "GPU",
    "gpuClass": "standard"
  },
  "nbformat": 4,
  "nbformat_minor": 0
}